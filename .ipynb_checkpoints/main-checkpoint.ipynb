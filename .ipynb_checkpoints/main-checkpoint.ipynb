{
 "cells": [
  {
   "cell_type": "code",
   "execution_count": 1,
   "metadata": {
    "collapsed": true
   },
   "outputs": [],
   "source": [
    "import pandas as pd\n",
    "import numpy as np\n",
    "from sklearn.metrics import roc_auc_score, r2_score\n",
    "from sklearn.cross_validation import train_test_split\n",
    "from sklearn.svm import SVR\n",
    "from sklearn.ensemble import RandomForestRegressor, RandomForestClassifier\n",
    "import xgboost as xgb\n",
    "%matplotlib inline\n",
    "import matplotlib.pyplot as plt\n",
    "import seaborn as sb"
   ]
  },
  {
   "cell_type": "code",
   "execution_count": 2,
   "metadata": {
    "collapsed": true
   },
   "outputs": [],
   "source": [
    "from preprocess import AmazonReviews"
   ]
  },
  {
   "cell_type": "code",
   "execution_count": 3,
   "metadata": {
    "collapsed": true
   },
   "outputs": [],
   "source": [
    "data = AmazonReviews(max_words=1500, is_regression=True)"
   ]
  },
  {
   "cell_type": "code",
   "execution_count": 4,
   "metadata": {
    "collapsed": false
   },
   "outputs": [
    {
     "data": {
      "text/plain": [
       "(292026, 1504)"
      ]
     },
     "execution_count": 4,
     "metadata": {},
     "output_type": "execute_result"
    }
   ],
   "source": [
    "data.X.shape"
   ]
  },
  {
   "cell_type": "code",
   "execution_count": 9,
   "metadata": {
    "collapsed": false
   },
   "outputs": [
    {
     "data": {
      "text/plain": [
       "<matplotlib.axes._subplots.AxesSubplot at 0x116837590>"
      ]
     },
     "execution_count": 9,
     "metadata": {},
     "output_type": "execute_result"
    },
    {
     "data": {
      "image/png": "[encoded data removed]",
      "text/plain": [
       "<matplotlib.figure.Figure at 0x116816c10>"
      ]
     },
     "metadata": {},
     "output_type": "display_data"
    }
   ],
   "source": [
    "# Distribution of helpfulness ratios\n",
    "sb.distplot(data.Y, kde=False)"
   ]
  },
  {
   "cell_type": "code",
   "execution_count": 6,
   "metadata": {
    "collapsed": true
   },
   "outputs": [],
   "source": [
    "xtrain, xtest, ytrain, ytest = train_test_split(data.X, data.Y, train_size=0.80)"
   ]
  },
  {
   "cell_type": "code",
   "execution_count": 7,
   "metadata": {
    "collapsed": true
   },
   "outputs": [],
   "source": [
    "model = RandomForestRegressor(n_estimators=10)"
   ]
  },
  {
   "cell_type": "code",
   "execution_count": 8,
   "metadata": {
    "collapsed": false
   },
   "outputs": [
    {
     "data": {
      "text/plain": [
       "RandomForestRegressor(bootstrap=True, criterion='mse', max_depth=None,\n",
       "           max_features='auto', max_leaf_nodes=None, min_samples_leaf=1,\n",
       "           min_samples_split=2, min_weight_fraction_leaf=0.0,\n",
       "           n_estimators=10, n_jobs=1, oob_score=False, random_state=None,\n",
       "           verbose=0, warm_start=False)"
      ]
     },
     "execution_count": 8,
     "metadata": {},
     "output_type": "execute_result"
    }
   ],
   "source": [
    "model.fit(xtrain, ytrain)"
   ]
  },
  {
   "cell_type": "code",
   "execution_count": 9,
   "metadata": {
    "collapsed": true
   },
   "outputs": [],
   "source": [
    "ypred = model.predict(xtest)"
   ]
  },
  {
   "cell_type": "code",
   "execution_count": 10,
   "metadata": {
    "collapsed": false
   },
   "outputs": [
    {
     "data": {
      "text/plain": [
       "0.41644318651914647"
      ]
     },
     "execution_count": 10,
     "metadata": {},
     "output_type": "execute_result"
    }
   ],
   "source": [
    "r2_score(ytest, ypred)"
   ]
  },
  {
   "cell_type": "code",
   "execution_count": 10,
   "metadata": {
    "collapsed": true
   },
   "outputs": [],
   "source": [
    "# Change task to classification\n",
    "data.regression = False"
   ]
  },
  {
   "cell_type": "code",
   "execution_count": 11,
   "metadata": {
    "collapsed": false
   },
   "outputs": [
    {
     "data": {
      "text/plain": [
       "<matplotlib.axes._subplots.AxesSubplot at 0x116abaf90>"
      ]
     },
     "execution_count": 11,
     "metadata": {},
     "output_type": "execute_result"
    },
    {
     "data": {
      "image/png": "[encoded data removed]",
      "text/plain": [
       "<matplotlib.figure.Figure at 0x116816750>"
      ]
     },
     "metadata": {},
     "output_type": "display_data"
    }
   ],
   "source": [
    "# Distribution of helpfulness \"classes\"\n",
    "sb.countplot(x=data.Y)"
   ]
  },
  {
   "cell_type": "code",
   "execution_count": 16,
   "metadata": {
    "collapsed": false
   },
   "outputs": [],
   "source": [
    "xtrain, xtest, ytrain, ytest = train_test_split(data.X, data.Y, train_size=0.80, stratify=data.Y)"
   ]
  },
  {
   "cell_type": "code",
   "execution_count": 46,
   "metadata": {
    "collapsed": true
   },
   "outputs": [],
   "source": [
    "model3 = RandomForestClassifier(n_estimators=25, oob_score=True, verbose=2)"
   ]
  },
  {
   "cell_type": "code",
   "execution_count": 47,
   "metadata": {
    "collapsed": false
   },
   "outputs": [
    {
     "data": {
      "text/plain": [
       "RandomForestClassifier(bootstrap=True, class_weight=None, criterion='gini',\n",
       "            max_depth=None, max_features='auto', max_leaf_nodes=None,\n",
       "            min_samples_leaf=1, min_samples_split=2,\n",
       "            min_weight_fraction_leaf=0.0, n_estimators=25, n_jobs=1,\n",
       "            oob_score=True, random_state=None, verbose=2, warm_start=False)"
      ]
     },
     "execution_count": 47,
     "metadata": {},
     "output_type": "execute_result"
    }
   ],
   "source": [
    "model3.fit(xtrain, ytrain)"
   ]
  },
  {
   "cell_type": "code",
   "execution_count": 48,
   "metadata": {
    "collapsed": true
   },
   "outputs": [],
   "source": [
    "ypred3 = model3.predict(xtest)"
   ]
  },
  {
   "cell_type": "code",
   "execution_count": 49,
   "metadata": {
    "collapsed": false
   },
   "outputs": [
    {
     "data": {
      "text/plain": [
       "0.71288550081410396"
      ]
     },
     "execution_count": 49,
     "metadata": {},
     "output_type": "execute_result"
    }
   ],
   "source": [
    "roc_auc_score(ytest, ypred3)"
   ]
  },
  {
   "cell_type": "code",
   "execution_count": 50,
   "metadata": {
    "collapsed": false
   },
   "outputs": [
    {
     "data": {
      "text/plain": [
       "array([[ 4080,  5368],\n",
       "       [  297, 48661]])"
      ]
     },
     "execution_count": 50,
     "metadata": {},
     "output_type": "execute_result"
    }
   ],
   "source": [
    "from sklearn.metrics import confusion_matrix\n",
    "confusion_matrix(ytest, ypred3)"
   ]
  },
  {
   "cell_type": "code",
   "execution_count": 51,
   "metadata": {
    "collapsed": false
   },
   "outputs": [
    {
     "data": {
      "text/plain": [
       "<matplotlib.axes._subplots.AxesSubplot at 0x1544c8050>"
      ]
     },
     "execution_count": 51,
     "metadata": {},
     "output_type": "execute_result"
    },
    {
     "data": {
      "image/png": "[encoded data removed]",
      "text/plain": [
       "<matplotlib.figure.Figure at 0x153795a90>"
      ]
     },
     "metadata": {},
     "output_type": "display_data"
    }
   ],
   "source": [
    "# Feature importances\n",
    "sb.set_context('poster', rc={'figure.figsize':(8, 8)})\n",
    "importances = sorted(zip(data.X.columns, np.abs(model3.feature_importances_)), key=lambda x: x[1], reverse=True)\n",
    "features, values = zip(*importances[:25])\n",
    "sb.barplot(x=values, y=features, orient='h', color='g')"
   ]
  },
  {
   "cell_type": "code",
   "execution_count": 75,
   "metadata": {
    "collapsed": false
   },
   "outputs": [],
   "source": [
    "results = pd.DataFrame(np.vstack((ytest, ypred3)).T, columns=['true', 'pred'])\n",
    "false_neg = results[(results.true == 1) & (results.pred == 0)]\n",
    "false_pos = results[(results.true == 0) & (results.pred == 1)]"
   ]
  },
  {
   "cell_type": "code",
   "execution_count": 84,
   "metadata": {
    "collapsed": false
   },
   "outputs": [
    {
     "data": {
      "text/html": [
       "<div>\n",
       "<table border=\"1\" class=\"dataframe\">\n",
       "  <thead>\n",
       "    <tr style=\"text-align: right;\">\n",
       "      <th></th>\n",
       "      <th>index</th>\n",
       "      <th>score</th>\n",
       "      <th>num_words</th>\n",
       "      <th>num_chars</th>\n",
       "      <th>readability</th>\n",
       "      <th>00</th>\n",
       "      <th>10</th>\n",
       "      <th>100</th>\n",
       "      <th>11</th>\n",
       "      <th>12</th>\n",
       "      <th>...</th>\n",
       "      <th>years</th>\n",
       "      <th>yeast</th>\n",
       "      <th>yellow</th>\n",
       "      <th>yes</th>\n",
       "      <th>yogurt</th>\n",
       "      <th>young</th>\n",
       "      <th>yum</th>\n",
       "      <th>yummy</th>\n",
       "      <th>zero</th>\n",
       "      <th>zico</th>\n",
       "    </tr>\n",
       "  </thead>\n",
       "  <tbody>\n",
       "    <tr>\n",
       "      <th>count</th>\n",
       "      <td>297.000000</td>\n",
       "      <td>297.000000</td>\n",
       "      <td>297.000000</td>\n",
       "      <td>297.000000</td>\n",
       "      <td>297.000000</td>\n",
       "      <td>297.000000</td>\n",
       "      <td>297.000000</td>\n",
       "      <td>297.000000</td>\n",
       "      <td>297.000000</td>\n",
       "      <td>297.000000</td>\n",
       "      <td>...</td>\n",
       "      <td>297.000000</td>\n",
       "      <td>297.0</td>\n",
       "      <td>297.000000</td>\n",
       "      <td>297.000000</td>\n",
       "      <td>297.0</td>\n",
       "      <td>297.000000</td>\n",
       "      <td>297.0</td>\n",
       "      <td>297.000000</td>\n",
       "      <td>297.000000</td>\n",
       "      <td>297.0</td>\n",
       "    </tr>\n",
       "    <tr>\n",
       "      <th>mean</th>\n",
       "      <td>292073.319865</td>\n",
       "      <td>1.649832</td>\n",
       "      <td>62.784512</td>\n",
       "      <td>288.585859</td>\n",
       "      <td>22.746768</td>\n",
       "      <td>0.010101</td>\n",
       "      <td>0.040404</td>\n",
       "      <td>0.040404</td>\n",
       "      <td>0.020202</td>\n",
       "      <td>0.040404</td>\n",
       "      <td>...</td>\n",
       "      <td>0.037037</td>\n",
       "      <td>0.0</td>\n",
       "      <td>0.006734</td>\n",
       "      <td>0.010101</td>\n",
       "      <td>0.0</td>\n",
       "      <td>0.003367</td>\n",
       "      <td>0.0</td>\n",
       "      <td>0.003367</td>\n",
       "      <td>0.013468</td>\n",
       "      <td>0.0</td>\n",
       "    </tr>\n",
       "    <tr>\n",
       "      <th>std</th>\n",
       "      <td>153958.818540</td>\n",
       "      <td>1.035816</td>\n",
       "      <td>111.999852</td>\n",
       "      <td>541.585953</td>\n",
       "      <td>36.519269</td>\n",
       "      <td>0.100164</td>\n",
       "      <td>0.293598</td>\n",
       "      <td>0.383420</td>\n",
       "      <td>0.140928</td>\n",
       "      <td>0.336492</td>\n",
       "      <td>...</td>\n",
       "      <td>0.206258</td>\n",
       "      <td>0.0</td>\n",
       "      <td>0.116052</td>\n",
       "      <td>0.100164</td>\n",
       "      <td>0.0</td>\n",
       "      <td>0.058026</td>\n",
       "      <td>0.0</td>\n",
       "      <td>0.058026</td>\n",
       "      <td>0.115462</td>\n",
       "      <td>0.0</td>\n",
       "    </tr>\n",
       "    <tr>\n",
       "      <th>min</th>\n",
       "      <td>3887.000000</td>\n",
       "      <td>1.000000</td>\n",
       "      <td>10.000000</td>\n",
       "      <td>36.000000</td>\n",
       "      <td>-8.430000</td>\n",
       "      <td>0.000000</td>\n",
       "      <td>0.000000</td>\n",
       "      <td>0.000000</td>\n",
       "      <td>0.000000</td>\n",
       "      <td>0.000000</td>\n",
       "      <td>...</td>\n",
       "      <td>0.000000</td>\n",
       "      <td>0.0</td>\n",
       "      <td>0.000000</td>\n",
       "      <td>0.000000</td>\n",
       "      <td>0.0</td>\n",
       "      <td>0.000000</td>\n",
       "      <td>0.0</td>\n",
       "      <td>0.000000</td>\n",
       "      <td>0.000000</td>\n",
       "      <td>0.0</td>\n",
       "    </tr>\n",
       "    <tr>\n",
       "      <th>25%</th>\n",
       "      <td>159121.000000</td>\n",
       "      <td>1.000000</td>\n",
       "      <td>22.000000</td>\n",
       "      <td>96.000000</td>\n",
       "      <td>3.570000</td>\n",
       "      <td>0.000000</td>\n",
       "      <td>0.000000</td>\n",
       "      <td>0.000000</td>\n",
       "      <td>0.000000</td>\n",
       "      <td>0.000000</td>\n",
       "      <td>...</td>\n",
       "      <td>0.000000</td>\n",
       "      <td>0.0</td>\n",
       "      <td>0.000000</td>\n",
       "      <td>0.000000</td>\n",
       "      <td>0.0</td>\n",
       "      <td>0.000000</td>\n",
       "      <td>0.0</td>\n",
       "      <td>0.000000</td>\n",
       "      <td>0.000000</td>\n",
       "      <td>0.0</td>\n",
       "    </tr>\n",
       "    <tr>\n",
       "      <th>50%</th>\n",
       "      <td>302561.000000</td>\n",
       "      <td>1.000000</td>\n",
       "      <td>29.000000</td>\n",
       "      <td>124.000000</td>\n",
       "      <td>11.570000</td>\n",
       "      <td>0.000000</td>\n",
       "      <td>0.000000</td>\n",
       "      <td>0.000000</td>\n",
       "      <td>0.000000</td>\n",
       "      <td>0.000000</td>\n",
       "      <td>...</td>\n",
       "      <td>0.000000</td>\n",
       "      <td>0.0</td>\n",
       "      <td>0.000000</td>\n",
       "      <td>0.000000</td>\n",
       "      <td>0.0</td>\n",
       "      <td>0.000000</td>\n",
       "      <td>0.0</td>\n",
       "      <td>0.000000</td>\n",
       "      <td>0.000000</td>\n",
       "      <td>0.0</td>\n",
       "    </tr>\n",
       "    <tr>\n",
       "      <th>75%</th>\n",
       "      <td>421419.000000</td>\n",
       "      <td>2.000000</td>\n",
       "      <td>48.000000</td>\n",
       "      <td>214.000000</td>\n",
       "      <td>32.570000</td>\n",
       "      <td>0.000000</td>\n",
       "      <td>0.000000</td>\n",
       "      <td>0.000000</td>\n",
       "      <td>0.000000</td>\n",
       "      <td>0.000000</td>\n",
       "      <td>...</td>\n",
       "      <td>0.000000</td>\n",
       "      <td>0.0</td>\n",
       "      <td>0.000000</td>\n",
       "      <td>0.000000</td>\n",
       "      <td>0.0</td>\n",
       "      <td>0.000000</td>\n",
       "      <td>0.0</td>\n",
       "      <td>0.000000</td>\n",
       "      <td>0.000000</td>\n",
       "      <td>0.0</td>\n",
       "    </tr>\n",
       "    <tr>\n",
       "      <th>max</th>\n",
       "      <td>566353.000000</td>\n",
       "      <td>5.000000</td>\n",
       "      <td>932.000000</td>\n",
       "      <td>4764.000000</td>\n",
       "      <td>379.070000</td>\n",
       "      <td>1.000000</td>\n",
       "      <td>4.000000</td>\n",
       "      <td>6.000000</td>\n",
       "      <td>1.000000</td>\n",
       "      <td>5.000000</td>\n",
       "      <td>...</td>\n",
       "      <td>2.000000</td>\n",
       "      <td>0.0</td>\n",
       "      <td>2.000000</td>\n",
       "      <td>1.000000</td>\n",
       "      <td>0.0</td>\n",
       "      <td>1.000000</td>\n",
       "      <td>0.0</td>\n",
       "      <td>1.000000</td>\n",
       "      <td>1.000000</td>\n",
       "      <td>0.0</td>\n",
       "    </tr>\n",
       "  </tbody>\n",
       "</table>\n",
       "<p>8 rows × 1505 columns</p>\n",
       "</div>"
      ],
      "text/plain": [
       "               index       score   num_words    num_chars  readability  \\\n",
       "count     297.000000  297.000000  297.000000   297.000000   297.000000   \n",
       "mean   292073.319865    1.649832   62.784512   288.585859    22.746768   \n",
       "std    153958.818540    1.035816  111.999852   541.585953    36.519269   \n",
       "min      3887.000000    1.000000   10.000000    36.000000    -8.430000   \n",
       "25%    159121.000000    1.000000   22.000000    96.000000     3.570000   \n",
       "50%    302561.000000    1.000000   29.000000   124.000000    11.570000   \n",
       "75%    421419.000000    2.000000   48.000000   214.000000    32.570000   \n",
       "max    566353.000000    5.000000  932.000000  4764.000000   379.070000   \n",
       "\n",
       "               00          10         100          11          12  ...    \\\n",
       "count  297.000000  297.000000  297.000000  297.000000  297.000000  ...     \n",
       "mean     0.010101    0.040404    0.040404    0.020202    0.040404  ...     \n",
       "std      0.100164    0.293598    0.383420    0.140928    0.336492  ...     \n",
       "min      0.000000    0.000000    0.000000    0.000000    0.000000  ...     \n",
       "25%      0.000000    0.000000    0.000000    0.000000    0.000000  ...     \n",
       "50%      0.000000    0.000000    0.000000    0.000000    0.000000  ...     \n",
       "75%      0.000000    0.000000    0.000000    0.000000    0.000000  ...     \n",
       "max      1.000000    4.000000    6.000000    1.000000    5.000000  ...     \n",
       "\n",
       "            years  yeast      yellow         yes  yogurt       young    yum  \\\n",
       "count  297.000000  297.0  297.000000  297.000000   297.0  297.000000  297.0   \n",
       "mean     0.037037    0.0    0.006734    0.010101     0.0    0.003367    0.0   \n",
       "std      0.206258    0.0    0.116052    0.100164     0.0    0.058026    0.0   \n",
       "min      0.000000    0.0    0.000000    0.000000     0.0    0.000000    0.0   \n",
       "25%      0.000000    0.0    0.000000    0.000000     0.0    0.000000    0.0   \n",
       "50%      0.000000    0.0    0.000000    0.000000     0.0    0.000000    0.0   \n",
       "75%      0.000000    0.0    0.000000    0.000000     0.0    0.000000    0.0   \n",
       "max      2.000000    0.0    2.000000    1.000000     0.0    1.000000    0.0   \n",
       "\n",
       "            yummy        zero   zico  \n",
       "count  297.000000  297.000000  297.0  \n",
       "mean     0.003367    0.013468    0.0  \n",
       "std      0.058026    0.115462    0.0  \n",
       "min      0.000000    0.000000    0.0  \n",
       "25%      0.000000    0.000000    0.0  \n",
       "50%      0.000000    0.000000    0.0  \n",
       "75%      0.000000    0.000000    0.0  \n",
       "max      1.000000    1.000000    0.0  \n",
       "\n",
       "[8 rows x 1505 columns]"
      ]
     },
     "execution_count": 84,
     "metadata": {},
     "output_type": "execute_result"
    }
   ],
   "source": [
    "xtest.reset_index().ix[false_neg.index].describe()"
   ]
  },
  {
   "cell_type": "code",
   "execution_count": 85,
   "metadata": {
    "collapsed": false
   },
   "outputs": [
    {
     "data": {
      "text/html": [
       "<div>\n",
       "<table border=\"1\" class=\"dataframe\">\n",
       "  <thead>\n",
       "    <tr style=\"text-align: right;\">\n",
       "      <th></th>\n",
       "      <th>index</th>\n",
       "      <th>score</th>\n",
       "      <th>num_words</th>\n",
       "      <th>num_chars</th>\n",
       "      <th>readability</th>\n",
       "      <th>00</th>\n",
       "      <th>10</th>\n",
       "      <th>100</th>\n",
       "      <th>11</th>\n",
       "      <th>12</th>\n",
       "      <th>...</th>\n",
       "      <th>years</th>\n",
       "      <th>yeast</th>\n",
       "      <th>yellow</th>\n",
       "      <th>yes</th>\n",
       "      <th>yogurt</th>\n",
       "      <th>young</th>\n",
       "      <th>yum</th>\n",
       "      <th>yummy</th>\n",
       "      <th>zero</th>\n",
       "      <th>zico</th>\n",
       "    </tr>\n",
       "  </thead>\n",
       "  <tbody>\n",
       "    <tr>\n",
       "      <th>count</th>\n",
       "      <td>5368.000000</td>\n",
       "      <td>5368.000000</td>\n",
       "      <td>5368.000000</td>\n",
       "      <td>5368.000000</td>\n",
       "      <td>5368.000000</td>\n",
       "      <td>5368.000000</td>\n",
       "      <td>5368.000000</td>\n",
       "      <td>5368.000000</td>\n",
       "      <td>5368.000000</td>\n",
       "      <td>5368.000000</td>\n",
       "      <td>...</td>\n",
       "      <td>5368.000000</td>\n",
       "      <td>5368.000000</td>\n",
       "      <td>5368.000000</td>\n",
       "      <td>5368.000000</td>\n",
       "      <td>5368.000000</td>\n",
       "      <td>5368.000000</td>\n",
       "      <td>5368.000000</td>\n",
       "      <td>5368.000000</td>\n",
       "      <td>5368.000000</td>\n",
       "      <td>5368.000000</td>\n",
       "    </tr>\n",
       "    <tr>\n",
       "      <th>mean</th>\n",
       "      <td>277953.462183</td>\n",
       "      <td>3.082526</td>\n",
       "      <td>78.164680</td>\n",
       "      <td>348.365686</td>\n",
       "      <td>24.894702</td>\n",
       "      <td>0.009687</td>\n",
       "      <td>0.033718</td>\n",
       "      <td>0.021610</td>\n",
       "      <td>0.009687</td>\n",
       "      <td>0.037072</td>\n",
       "      <td>...</td>\n",
       "      <td>0.038189</td>\n",
       "      <td>0.005402</td>\n",
       "      <td>0.007824</td>\n",
       "      <td>0.015089</td>\n",
       "      <td>0.008197</td>\n",
       "      <td>0.002794</td>\n",
       "      <td>0.003726</td>\n",
       "      <td>0.012668</td>\n",
       "      <td>0.005030</td>\n",
       "      <td>0.001677</td>\n",
       "    </tr>\n",
       "    <tr>\n",
       "      <th>std</th>\n",
       "      <td>167388.770459</td>\n",
       "      <td>1.622832</td>\n",
       "      <td>79.873239</td>\n",
       "      <td>375.066447</td>\n",
       "      <td>32.124835</td>\n",
       "      <td>0.105288</td>\n",
       "      <td>0.199168</td>\n",
       "      <td>0.181855</td>\n",
       "      <td>0.115419</td>\n",
       "      <td>0.229070</td>\n",
       "      <td>...</td>\n",
       "      <td>0.209327</td>\n",
       "      <td>0.111600</td>\n",
       "      <td>0.112289</td>\n",
       "      <td>0.137708</td>\n",
       "      <td>0.127786</td>\n",
       "      <td>0.059434</td>\n",
       "      <td>0.066767</td>\n",
       "      <td>0.115130</td>\n",
       "      <td>0.070749</td>\n",
       "      <td>0.052840</td>\n",
       "    </tr>\n",
       "    <tr>\n",
       "      <th>min</th>\n",
       "      <td>67.000000</td>\n",
       "      <td>1.000000</td>\n",
       "      <td>10.000000</td>\n",
       "      <td>43.000000</td>\n",
       "      <td>-13.930000</td>\n",
       "      <td>0.000000</td>\n",
       "      <td>0.000000</td>\n",
       "      <td>0.000000</td>\n",
       "      <td>0.000000</td>\n",
       "      <td>0.000000</td>\n",
       "      <td>...</td>\n",
       "      <td>0.000000</td>\n",
       "      <td>0.000000</td>\n",
       "      <td>0.000000</td>\n",
       "      <td>0.000000</td>\n",
       "      <td>0.000000</td>\n",
       "      <td>0.000000</td>\n",
       "      <td>0.000000</td>\n",
       "      <td>0.000000</td>\n",
       "      <td>0.000000</td>\n",
       "      <td>0.000000</td>\n",
       "    </tr>\n",
       "    <tr>\n",
       "      <th>25%</th>\n",
       "      <td>130699.250000</td>\n",
       "      <td>1.000000</td>\n",
       "      <td>32.000000</td>\n",
       "      <td>140.000000</td>\n",
       "      <td>7.570000</td>\n",
       "      <td>0.000000</td>\n",
       "      <td>0.000000</td>\n",
       "      <td>0.000000</td>\n",
       "      <td>0.000000</td>\n",
       "      <td>0.000000</td>\n",
       "      <td>...</td>\n",
       "      <td>0.000000</td>\n",
       "      <td>0.000000</td>\n",
       "      <td>0.000000</td>\n",
       "      <td>0.000000</td>\n",
       "      <td>0.000000</td>\n",
       "      <td>0.000000</td>\n",
       "      <td>0.000000</td>\n",
       "      <td>0.000000</td>\n",
       "      <td>0.000000</td>\n",
       "      <td>0.000000</td>\n",
       "    </tr>\n",
       "    <tr>\n",
       "      <th>50%</th>\n",
       "      <td>271101.500000</td>\n",
       "      <td>3.000000</td>\n",
       "      <td>54.000000</td>\n",
       "      <td>236.000000</td>\n",
       "      <td>17.070000</td>\n",
       "      <td>0.000000</td>\n",
       "      <td>0.000000</td>\n",
       "      <td>0.000000</td>\n",
       "      <td>0.000000</td>\n",
       "      <td>0.000000</td>\n",
       "      <td>...</td>\n",
       "      <td>0.000000</td>\n",
       "      <td>0.000000</td>\n",
       "      <td>0.000000</td>\n",
       "      <td>0.000000</td>\n",
       "      <td>0.000000</td>\n",
       "      <td>0.000000</td>\n",
       "      <td>0.000000</td>\n",
       "      <td>0.000000</td>\n",
       "      <td>0.000000</td>\n",
       "      <td>0.000000</td>\n",
       "    </tr>\n",
       "    <tr>\n",
       "      <th>75%</th>\n",
       "      <td>429261.500000</td>\n",
       "      <td>5.000000</td>\n",
       "      <td>94.000000</td>\n",
       "      <td>411.250000</td>\n",
       "      <td>32.070000</td>\n",
       "      <td>0.000000</td>\n",
       "      <td>0.000000</td>\n",
       "      <td>0.000000</td>\n",
       "      <td>0.000000</td>\n",
       "      <td>0.000000</td>\n",
       "      <td>...</td>\n",
       "      <td>0.000000</td>\n",
       "      <td>0.000000</td>\n",
       "      <td>0.000000</td>\n",
       "      <td>0.000000</td>\n",
       "      <td>0.000000</td>\n",
       "      <td>0.000000</td>\n",
       "      <td>0.000000</td>\n",
       "      <td>0.000000</td>\n",
       "      <td>0.000000</td>\n",
       "      <td>0.000000</td>\n",
       "    </tr>\n",
       "    <tr>\n",
       "      <th>max</th>\n",
       "      <td>568346.000000</td>\n",
       "      <td>5.000000</td>\n",
       "      <td>1535.000000</td>\n",
       "      <td>8579.000000</td>\n",
       "      <td>523.070000</td>\n",
       "      <td>2.000000</td>\n",
       "      <td>4.000000</td>\n",
       "      <td>5.000000</td>\n",
       "      <td>4.000000</td>\n",
       "      <td>4.000000</td>\n",
       "      <td>...</td>\n",
       "      <td>3.000000</td>\n",
       "      <td>4.000000</td>\n",
       "      <td>4.000000</td>\n",
       "      <td>4.000000</td>\n",
       "      <td>4.000000</td>\n",
       "      <td>2.000000</td>\n",
       "      <td>2.000000</td>\n",
       "      <td>2.000000</td>\n",
       "      <td>1.000000</td>\n",
       "      <td>2.000000</td>\n",
       "    </tr>\n",
       "  </tbody>\n",
       "</table>\n",
       "<p>8 rows × 1505 columns</p>\n",
       "</div>"
      ],
      "text/plain": [
       "               index        score    num_words    num_chars  readability  \\\n",
       "count    5368.000000  5368.000000  5368.000000  5368.000000  5368.000000   \n",
       "mean   277953.462183     3.082526    78.164680   348.365686    24.894702   \n",
       "std    167388.770459     1.622832    79.873239   375.066447    32.124835   \n",
       "min        67.000000     1.000000    10.000000    43.000000   -13.930000   \n",
       "25%    130699.250000     1.000000    32.000000   140.000000     7.570000   \n",
       "50%    271101.500000     3.000000    54.000000   236.000000    17.070000   \n",
       "75%    429261.500000     5.000000    94.000000   411.250000    32.070000   \n",
       "max    568346.000000     5.000000  1535.000000  8579.000000   523.070000   \n",
       "\n",
       "                00           10          100           11           12  \\\n",
       "count  5368.000000  5368.000000  5368.000000  5368.000000  5368.000000   \n",
       "mean      0.009687     0.033718     0.021610     0.009687     0.037072   \n",
       "std       0.105288     0.199168     0.181855     0.115419     0.229070   \n",
       "min       0.000000     0.000000     0.000000     0.000000     0.000000   \n",
       "25%       0.000000     0.000000     0.000000     0.000000     0.000000   \n",
       "50%       0.000000     0.000000     0.000000     0.000000     0.000000   \n",
       "75%       0.000000     0.000000     0.000000     0.000000     0.000000   \n",
       "max       2.000000     4.000000     5.000000     4.000000     4.000000   \n",
       "\n",
       "          ...             years        yeast       yellow          yes  \\\n",
       "count     ...       5368.000000  5368.000000  5368.000000  5368.000000   \n",
       "mean      ...          0.038189     0.005402     0.007824     0.015089   \n",
       "std       ...          0.209327     0.111600     0.112289     0.137708   \n",
       "min       ...          0.000000     0.000000     0.000000     0.000000   \n",
       "25%       ...          0.000000     0.000000     0.000000     0.000000   \n",
       "50%       ...          0.000000     0.000000     0.000000     0.000000   \n",
       "75%       ...          0.000000     0.000000     0.000000     0.000000   \n",
       "max       ...          3.000000     4.000000     4.000000     4.000000   \n",
       "\n",
       "            yogurt        young          yum        yummy         zero  \\\n",
       "count  5368.000000  5368.000000  5368.000000  5368.000000  5368.000000   \n",
       "mean      0.008197     0.002794     0.003726     0.012668     0.005030   \n",
       "std       0.127786     0.059434     0.066767     0.115130     0.070749   \n",
       "min       0.000000     0.000000     0.000000     0.000000     0.000000   \n",
       "25%       0.000000     0.000000     0.000000     0.000000     0.000000   \n",
       "50%       0.000000     0.000000     0.000000     0.000000     0.000000   \n",
       "75%       0.000000     0.000000     0.000000     0.000000     0.000000   \n",
       "max       4.000000     2.000000     2.000000     2.000000     1.000000   \n",
       "\n",
       "              zico  \n",
       "count  5368.000000  \n",
       "mean      0.001677  \n",
       "std       0.052840  \n",
       "min       0.000000  \n",
       "25%       0.000000  \n",
       "50%       0.000000  \n",
       "75%       0.000000  \n",
       "max       2.000000  \n",
       "\n",
       "[8 rows x 1505 columns]"
      ]
     },
     "execution_count": 85,
     "metadata": {},
     "output_type": "execute_result"
    }
   ],
   "source": [
    "xtest.reset_index().ix[false_pos.index].describe()"
   ]
  },
  {
   "cell_type": "code",
   "execution_count": null,
   "metadata": {
    "collapsed": true
   },
   "outputs": [],
   "source": []
  }
 ],
 "metadata": {
  "kernelspec": {
   "display_name": "Python 2",
   "language": "python",
   "name": "python2"
  },
  "language_info": {
   "codemirror_mode": {
    "name": "ipython",
    "version": 2
   },
   "file_extension": ".py",
   "mimetype": "text/x-python",
   "name": "python",
   "nbconvert_exporter": "python",
   "pygments_lexer": "ipython2",
   "version": "2.7.11"
  }
 },
 "nbformat": 4,
 "nbformat_minor": 0
}
